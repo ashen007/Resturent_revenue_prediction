{
 "cells": [
  {
   "cell_type": "code",
   "execution_count": 1,
   "metadata": {
    "collapsed": true
   },
   "outputs": [],
   "source": [
    "# libraries\n",
    "import numpy as np\n",
    "import pandas as pd\n",
    "import seaborn as sns\n",
    "from matplotlib import pyplot as plt"
   ]
  },
  {
   "cell_type": "code",
   "execution_count": 2,
   "outputs": [],
   "source": [
    "# import data sets\n",
    "train = pd.read_csv('./restaurant-revenue-prediction/train.csv')\n",
    "test = pd.read_csv('./restaurant-revenue-prediction/test.csv')"
   ],
   "metadata": {
    "collapsed": false,
    "pycharm": {
     "name": "#%%\n"
    }
   }
  },
  {
   "cell_type": "code",
   "execution_count": 4,
   "outputs": [
    {
     "data": {
      "text/plain": "   Id   Open Date        City  City Group Type  P1   P2   P3   P4  P5  ...  \\\n0   0  07/17/1999    İstanbul  Big Cities   IL   4  5.0  4.0  4.0   2  ...   \n1   1  02/14/2008      Ankara  Big Cities   FC   4  5.0  4.0  4.0   1  ...   \n2   2  03/09/2013  Diyarbakır       Other   IL   2  4.0  2.0  5.0   2  ...   \n3   3  02/02/2012       Tokat       Other   IL   6  4.5  6.0  6.0   4  ...   \n4   4  05/09/2009   Gaziantep       Other   IL   3  4.0  3.0  4.0   2  ...   \n\n   P29  P30  P31  P32  P33  P34  P35  P36  P37    revenue  \n0  3.0    5    3    4    5    5    4    3    4  5653753.0  \n1  3.0    0    0    0    0    0    0    0    0  6923131.0  \n2  3.0    0    0    0    0    0    0    0    0  2055379.0  \n3  7.5   25   12   10    6   18   12   12    6  2675511.0  \n4  3.0    5    1    3    2    3    4    3    3  4316715.0  \n\n[5 rows x 43 columns]",
      "text/html": "<div>\n<style scoped>\n    .dataframe tbody tr th:only-of-type {\n        vertical-align: middle;\n    }\n\n    .dataframe tbody tr th {\n        vertical-align: top;\n    }\n\n    .dataframe thead th {\n        text-align: right;\n    }\n</style>\n<table border=\"1\" class=\"dataframe\">\n  <thead>\n    <tr style=\"text-align: right;\">\n      <th></th>\n      <th>Id</th>\n      <th>Open Date</th>\n      <th>City</th>\n      <th>City Group</th>\n      <th>Type</th>\n      <th>P1</th>\n      <th>P2</th>\n      <th>P3</th>\n      <th>P4</th>\n      <th>P5</th>\n      <th>...</th>\n      <th>P29</th>\n      <th>P30</th>\n      <th>P31</th>\n      <th>P32</th>\n      <th>P33</th>\n      <th>P34</th>\n      <th>P35</th>\n      <th>P36</th>\n      <th>P37</th>\n      <th>revenue</th>\n    </tr>\n  </thead>\n  <tbody>\n    <tr>\n      <th>0</th>\n      <td>0</td>\n      <td>07/17/1999</td>\n      <td>İstanbul</td>\n      <td>Big Cities</td>\n      <td>IL</td>\n      <td>4</td>\n      <td>5.0</td>\n      <td>4.0</td>\n      <td>4.0</td>\n      <td>2</td>\n      <td>...</td>\n      <td>3.0</td>\n      <td>5</td>\n      <td>3</td>\n      <td>4</td>\n      <td>5</td>\n      <td>5</td>\n      <td>4</td>\n      <td>3</td>\n      <td>4</td>\n      <td>5653753.0</td>\n    </tr>\n    <tr>\n      <th>1</th>\n      <td>1</td>\n      <td>02/14/2008</td>\n      <td>Ankara</td>\n      <td>Big Cities</td>\n      <td>FC</td>\n      <td>4</td>\n      <td>5.0</td>\n      <td>4.0</td>\n      <td>4.0</td>\n      <td>1</td>\n      <td>...</td>\n      <td>3.0</td>\n      <td>0</td>\n      <td>0</td>\n      <td>0</td>\n      <td>0</td>\n      <td>0</td>\n      <td>0</td>\n      <td>0</td>\n      <td>0</td>\n      <td>6923131.0</td>\n    </tr>\n    <tr>\n      <th>2</th>\n      <td>2</td>\n      <td>03/09/2013</td>\n      <td>Diyarbakır</td>\n      <td>Other</td>\n      <td>IL</td>\n      <td>2</td>\n      <td>4.0</td>\n      <td>2.0</td>\n      <td>5.0</td>\n      <td>2</td>\n      <td>...</td>\n      <td>3.0</td>\n      <td>0</td>\n      <td>0</td>\n      <td>0</td>\n      <td>0</td>\n      <td>0</td>\n      <td>0</td>\n      <td>0</td>\n      <td>0</td>\n      <td>2055379.0</td>\n    </tr>\n    <tr>\n      <th>3</th>\n      <td>3</td>\n      <td>02/02/2012</td>\n      <td>Tokat</td>\n      <td>Other</td>\n      <td>IL</td>\n      <td>6</td>\n      <td>4.5</td>\n      <td>6.0</td>\n      <td>6.0</td>\n      <td>4</td>\n      <td>...</td>\n      <td>7.5</td>\n      <td>25</td>\n      <td>12</td>\n      <td>10</td>\n      <td>6</td>\n      <td>18</td>\n      <td>12</td>\n      <td>12</td>\n      <td>6</td>\n      <td>2675511.0</td>\n    </tr>\n    <tr>\n      <th>4</th>\n      <td>4</td>\n      <td>05/09/2009</td>\n      <td>Gaziantep</td>\n      <td>Other</td>\n      <td>IL</td>\n      <td>3</td>\n      <td>4.0</td>\n      <td>3.0</td>\n      <td>4.0</td>\n      <td>2</td>\n      <td>...</td>\n      <td>3.0</td>\n      <td>5</td>\n      <td>1</td>\n      <td>3</td>\n      <td>2</td>\n      <td>3</td>\n      <td>4</td>\n      <td>3</td>\n      <td>3</td>\n      <td>4316715.0</td>\n    </tr>\n  </tbody>\n</table>\n<p>5 rows × 43 columns</p>\n</div>"
     },
     "execution_count": 4,
     "metadata": {},
     "output_type": "execute_result"
    }
   ],
   "source": [
    "train.head()"
   ],
   "metadata": {
    "collapsed": false,
    "pycharm": {
     "name": "#%%\n"
    }
   }
  },
  {
   "cell_type": "code",
   "execution_count": 5,
   "outputs": [
    {
     "data": {
      "text/plain": "   Id   Open Date            City  City Group Type  P1   P2   P3   P4  P5  \\\n0   0  01/22/2011           Niğde       Other   FC   1  4.0  4.0  4.0   1   \n1   1  03/18/2011           Konya       Other   IL   3  4.0  4.0  4.0   2   \n2   2  10/30/2013          Ankara  Big Cities   FC   3  4.0  4.0  4.0   2   \n3   3  05/06/2013         Kocaeli       Other   IL   2  4.0  4.0  4.0   2   \n4   4  07/31/2013  Afyonkarahisar       Other   FC   2  4.0  4.0  4.0   1   \n\n   ...  P28  P29  P30  P31  P32  P33  P34  P35  P36  P37  \n0  ...  2.0  3.0    0    0    0    0    0    0    0    0  \n1  ...  1.0  3.0    0    0    0    0    0    0    0    0  \n2  ...  2.0  3.0    0    0    0    0    0    0    0    0  \n3  ...  2.0  3.0    0    4    0    0    0    0    0    0  \n4  ...  5.0  3.0    0    0    0    0    0    0    0    0  \n\n[5 rows x 42 columns]",
      "text/html": "<div>\n<style scoped>\n    .dataframe tbody tr th:only-of-type {\n        vertical-align: middle;\n    }\n\n    .dataframe tbody tr th {\n        vertical-align: top;\n    }\n\n    .dataframe thead th {\n        text-align: right;\n    }\n</style>\n<table border=\"1\" class=\"dataframe\">\n  <thead>\n    <tr style=\"text-align: right;\">\n      <th></th>\n      <th>Id</th>\n      <th>Open Date</th>\n      <th>City</th>\n      <th>City Group</th>\n      <th>Type</th>\n      <th>P1</th>\n      <th>P2</th>\n      <th>P3</th>\n      <th>P4</th>\n      <th>P5</th>\n      <th>...</th>\n      <th>P28</th>\n      <th>P29</th>\n      <th>P30</th>\n      <th>P31</th>\n      <th>P32</th>\n      <th>P33</th>\n      <th>P34</th>\n      <th>P35</th>\n      <th>P36</th>\n      <th>P37</th>\n    </tr>\n  </thead>\n  <tbody>\n    <tr>\n      <th>0</th>\n      <td>0</td>\n      <td>01/22/2011</td>\n      <td>Niğde</td>\n      <td>Other</td>\n      <td>FC</td>\n      <td>1</td>\n      <td>4.0</td>\n      <td>4.0</td>\n      <td>4.0</td>\n      <td>1</td>\n      <td>...</td>\n      <td>2.0</td>\n      <td>3.0</td>\n      <td>0</td>\n      <td>0</td>\n      <td>0</td>\n      <td>0</td>\n      <td>0</td>\n      <td>0</td>\n      <td>0</td>\n      <td>0</td>\n    </tr>\n    <tr>\n      <th>1</th>\n      <td>1</td>\n      <td>03/18/2011</td>\n      <td>Konya</td>\n      <td>Other</td>\n      <td>IL</td>\n      <td>3</td>\n      <td>4.0</td>\n      <td>4.0</td>\n      <td>4.0</td>\n      <td>2</td>\n      <td>...</td>\n      <td>1.0</td>\n      <td>3.0</td>\n      <td>0</td>\n      <td>0</td>\n      <td>0</td>\n      <td>0</td>\n      <td>0</td>\n      <td>0</td>\n      <td>0</td>\n      <td>0</td>\n    </tr>\n    <tr>\n      <th>2</th>\n      <td>2</td>\n      <td>10/30/2013</td>\n      <td>Ankara</td>\n      <td>Big Cities</td>\n      <td>FC</td>\n      <td>3</td>\n      <td>4.0</td>\n      <td>4.0</td>\n      <td>4.0</td>\n      <td>2</td>\n      <td>...</td>\n      <td>2.0</td>\n      <td>3.0</td>\n      <td>0</td>\n      <td>0</td>\n      <td>0</td>\n      <td>0</td>\n      <td>0</td>\n      <td>0</td>\n      <td>0</td>\n      <td>0</td>\n    </tr>\n    <tr>\n      <th>3</th>\n      <td>3</td>\n      <td>05/06/2013</td>\n      <td>Kocaeli</td>\n      <td>Other</td>\n      <td>IL</td>\n      <td>2</td>\n      <td>4.0</td>\n      <td>4.0</td>\n      <td>4.0</td>\n      <td>2</td>\n      <td>...</td>\n      <td>2.0</td>\n      <td>3.0</td>\n      <td>0</td>\n      <td>4</td>\n      <td>0</td>\n      <td>0</td>\n      <td>0</td>\n      <td>0</td>\n      <td>0</td>\n      <td>0</td>\n    </tr>\n    <tr>\n      <th>4</th>\n      <td>4</td>\n      <td>07/31/2013</td>\n      <td>Afyonkarahisar</td>\n      <td>Other</td>\n      <td>FC</td>\n      <td>2</td>\n      <td>4.0</td>\n      <td>4.0</td>\n      <td>4.0</td>\n      <td>1</td>\n      <td>...</td>\n      <td>5.0</td>\n      <td>3.0</td>\n      <td>0</td>\n      <td>0</td>\n      <td>0</td>\n      <td>0</td>\n      <td>0</td>\n      <td>0</td>\n      <td>0</td>\n      <td>0</td>\n    </tr>\n  </tbody>\n</table>\n<p>5 rows × 42 columns</p>\n</div>"
     },
     "execution_count": 5,
     "metadata": {},
     "output_type": "execute_result"
    }
   ],
   "source": [
    "test.head()"
   ],
   "metadata": {
    "collapsed": false,
    "pycharm": {
     "name": "#%%\n"
    }
   }
  },
  {
   "cell_type": "code",
   "execution_count": 8,
   "outputs": [],
   "source": [
    "# revenue is the target feature try to predict\n",
    "target = train[['revenue']]\n",
    "train.drop('revenue',\n",
    "           axis=1,\n",
    "           inplace=True)"
   ],
   "metadata": {
    "collapsed": false,
    "pycharm": {
     "name": "#%%\n"
    }
   }
  },
  {
   "cell_type": "code",
   "execution_count": 10,
   "outputs": [
    {
     "data": {
      "text/plain": "(Index(['revenue'], dtype='object'),\n Index(['Id', 'Open Date', 'City', 'City Group', 'Type', 'P1', 'P2', 'P3', 'P4',\n        'P5', 'P6', 'P7', 'P8', 'P9', 'P10', 'P11', 'P12', 'P13', 'P14', 'P15',\n        'P16', 'P17', 'P18', 'P19', 'P20', 'P21', 'P22', 'P23', 'P24', 'P25',\n        'P26', 'P27', 'P28', 'P29', 'P30', 'P31', 'P32', 'P33', 'P34', 'P35',\n        'P36', 'P37'],\n       dtype='object'))"
     },
     "execution_count": 10,
     "metadata": {},
     "output_type": "execute_result"
    }
   ],
   "source": [
    "target.columns, train.columns"
   ],
   "metadata": {
    "collapsed": false,
    "pycharm": {
     "name": "#%%\n"
    }
   }
  },
  {
   "cell_type": "code",
   "execution_count": 17,
   "outputs": [
    {
     "data": {
      "text/plain": "Id              int64\nOpen Date      object\nCity           object\nCity Group     object\nType           object\nP1              int64\nP2            float64\nP3            float64\nP4            float64\nP5              int64\nP6              int64\nP7              int64\nP8              int64\nP9              int64\nP10             int64\nP11             int64\nP12             int64\nP13           float64\nP14             int64\nP15             int64\nP16             int64\nP17             int64\nP18             int64\nP19             int64\nP20             int64\nP21             int64\nP22             int64\nP23             int64\nP24             int64\nP25             int64\nP26           float64\nP27           float64\nP28           float64\nP29           float64\nP30             int64\nP31             int64\nP32             int64\nP33             int64\nP34             int64\nP35             int64\nP36             int64\nP37             int64\ndtype: object"
     },
     "execution_count": 17,
     "metadata": {},
     "output_type": "execute_result"
    }
   ],
   "source": [
    "train.dtypes"
   ],
   "metadata": {
    "collapsed": false,
    "pycharm": {
     "name": "#%%\n"
    }
   }
  },
  {
   "cell_type": "code",
   "execution_count": 11,
   "outputs": [
    {
     "data": {
      "text/plain": "        Id  Open Date   City  City Group   Type     P1     P2     P3     P4  \\\n0    False      False  False       False  False  False  False  False  False   \n1    False      False  False       False  False  False  False  False  False   \n2    False      False  False       False  False  False  False  False  False   \n3    False      False  False       False  False  False  False  False  False   \n4    False      False  False       False  False  False  False  False  False   \n..     ...        ...    ...         ...    ...    ...    ...    ...    ...   \n132  False      False  False       False  False  False  False  False  False   \n133  False      False  False       False  False  False  False  False  False   \n134  False      False  False       False  False  False  False  False  False   \n135  False      False  False       False  False  False  False  False  False   \n136  False      False  False       False  False  False  False  False  False   \n\n        P5  ...    P28    P29    P30    P31    P32    P33    P34    P35  \\\n0    False  ...  False  False  False  False  False  False  False  False   \n1    False  ...  False  False  False  False  False  False  False  False   \n2    False  ...  False  False  False  False  False  False  False  False   \n3    False  ...  False  False  False  False  False  False  False  False   \n4    False  ...  False  False  False  False  False  False  False  False   \n..     ...  ...    ...    ...    ...    ...    ...    ...    ...    ...   \n132  False  ...  False  False  False  False  False  False  False  False   \n133  False  ...  False  False  False  False  False  False  False  False   \n134  False  ...  False  False  False  False  False  False  False  False   \n135  False  ...  False  False  False  False  False  False  False  False   \n136  False  ...  False  False  False  False  False  False  False  False   \n\n       P36    P37  \n0    False  False  \n1    False  False  \n2    False  False  \n3    False  False  \n4    False  False  \n..     ...    ...  \n132  False  False  \n133  False  False  \n134  False  False  \n135  False  False  \n136  False  False  \n\n[137 rows x 42 columns]",
      "text/html": "<div>\n<style scoped>\n    .dataframe tbody tr th:only-of-type {\n        vertical-align: middle;\n    }\n\n    .dataframe tbody tr th {\n        vertical-align: top;\n    }\n\n    .dataframe thead th {\n        text-align: right;\n    }\n</style>\n<table border=\"1\" class=\"dataframe\">\n  <thead>\n    <tr style=\"text-align: right;\">\n      <th></th>\n      <th>Id</th>\n      <th>Open Date</th>\n      <th>City</th>\n      <th>City Group</th>\n      <th>Type</th>\n      <th>P1</th>\n      <th>P2</th>\n      <th>P3</th>\n      <th>P4</th>\n      <th>P5</th>\n      <th>...</th>\n      <th>P28</th>\n      <th>P29</th>\n      <th>P30</th>\n      <th>P31</th>\n      <th>P32</th>\n      <th>P33</th>\n      <th>P34</th>\n      <th>P35</th>\n      <th>P36</th>\n      <th>P37</th>\n    </tr>\n  </thead>\n  <tbody>\n    <tr>\n      <th>0</th>\n      <td>False</td>\n      <td>False</td>\n      <td>False</td>\n      <td>False</td>\n      <td>False</td>\n      <td>False</td>\n      <td>False</td>\n      <td>False</td>\n      <td>False</td>\n      <td>False</td>\n      <td>...</td>\n      <td>False</td>\n      <td>False</td>\n      <td>False</td>\n      <td>False</td>\n      <td>False</td>\n      <td>False</td>\n      <td>False</td>\n      <td>False</td>\n      <td>False</td>\n      <td>False</td>\n    </tr>\n    <tr>\n      <th>1</th>\n      <td>False</td>\n      <td>False</td>\n      <td>False</td>\n      <td>False</td>\n      <td>False</td>\n      <td>False</td>\n      <td>False</td>\n      <td>False</td>\n      <td>False</td>\n      <td>False</td>\n      <td>...</td>\n      <td>False</td>\n      <td>False</td>\n      <td>False</td>\n      <td>False</td>\n      <td>False</td>\n      <td>False</td>\n      <td>False</td>\n      <td>False</td>\n      <td>False</td>\n      <td>False</td>\n    </tr>\n    <tr>\n      <th>2</th>\n      <td>False</td>\n      <td>False</td>\n      <td>False</td>\n      <td>False</td>\n      <td>False</td>\n      <td>False</td>\n      <td>False</td>\n      <td>False</td>\n      <td>False</td>\n      <td>False</td>\n      <td>...</td>\n      <td>False</td>\n      <td>False</td>\n      <td>False</td>\n      <td>False</td>\n      <td>False</td>\n      <td>False</td>\n      <td>False</td>\n      <td>False</td>\n      <td>False</td>\n      <td>False</td>\n    </tr>\n    <tr>\n      <th>3</th>\n      <td>False</td>\n      <td>False</td>\n      <td>False</td>\n      <td>False</td>\n      <td>False</td>\n      <td>False</td>\n      <td>False</td>\n      <td>False</td>\n      <td>False</td>\n      <td>False</td>\n      <td>...</td>\n      <td>False</td>\n      <td>False</td>\n      <td>False</td>\n      <td>False</td>\n      <td>False</td>\n      <td>False</td>\n      <td>False</td>\n      <td>False</td>\n      <td>False</td>\n      <td>False</td>\n    </tr>\n    <tr>\n      <th>4</th>\n      <td>False</td>\n      <td>False</td>\n      <td>False</td>\n      <td>False</td>\n      <td>False</td>\n      <td>False</td>\n      <td>False</td>\n      <td>False</td>\n      <td>False</td>\n      <td>False</td>\n      <td>...</td>\n      <td>False</td>\n      <td>False</td>\n      <td>False</td>\n      <td>False</td>\n      <td>False</td>\n      <td>False</td>\n      <td>False</td>\n      <td>False</td>\n      <td>False</td>\n      <td>False</td>\n    </tr>\n    <tr>\n      <th>...</th>\n      <td>...</td>\n      <td>...</td>\n      <td>...</td>\n      <td>...</td>\n      <td>...</td>\n      <td>...</td>\n      <td>...</td>\n      <td>...</td>\n      <td>...</td>\n      <td>...</td>\n      <td>...</td>\n      <td>...</td>\n      <td>...</td>\n      <td>...</td>\n      <td>...</td>\n      <td>...</td>\n      <td>...</td>\n      <td>...</td>\n      <td>...</td>\n      <td>...</td>\n      <td>...</td>\n    </tr>\n    <tr>\n      <th>132</th>\n      <td>False</td>\n      <td>False</td>\n      <td>False</td>\n      <td>False</td>\n      <td>False</td>\n      <td>False</td>\n      <td>False</td>\n      <td>False</td>\n      <td>False</td>\n      <td>False</td>\n      <td>...</td>\n      <td>False</td>\n      <td>False</td>\n      <td>False</td>\n      <td>False</td>\n      <td>False</td>\n      <td>False</td>\n      <td>False</td>\n      <td>False</td>\n      <td>False</td>\n      <td>False</td>\n    </tr>\n    <tr>\n      <th>133</th>\n      <td>False</td>\n      <td>False</td>\n      <td>False</td>\n      <td>False</td>\n      <td>False</td>\n      <td>False</td>\n      <td>False</td>\n      <td>False</td>\n      <td>False</td>\n      <td>False</td>\n      <td>...</td>\n      <td>False</td>\n      <td>False</td>\n      <td>False</td>\n      <td>False</td>\n      <td>False</td>\n      <td>False</td>\n      <td>False</td>\n      <td>False</td>\n      <td>False</td>\n      <td>False</td>\n    </tr>\n    <tr>\n      <th>134</th>\n      <td>False</td>\n      <td>False</td>\n      <td>False</td>\n      <td>False</td>\n      <td>False</td>\n      <td>False</td>\n      <td>False</td>\n      <td>False</td>\n      <td>False</td>\n      <td>False</td>\n      <td>...</td>\n      <td>False</td>\n      <td>False</td>\n      <td>False</td>\n      <td>False</td>\n      <td>False</td>\n      <td>False</td>\n      <td>False</td>\n      <td>False</td>\n      <td>False</td>\n      <td>False</td>\n    </tr>\n    <tr>\n      <th>135</th>\n      <td>False</td>\n      <td>False</td>\n      <td>False</td>\n      <td>False</td>\n      <td>False</td>\n      <td>False</td>\n      <td>False</td>\n      <td>False</td>\n      <td>False</td>\n      <td>False</td>\n      <td>...</td>\n      <td>False</td>\n      <td>False</td>\n      <td>False</td>\n      <td>False</td>\n      <td>False</td>\n      <td>False</td>\n      <td>False</td>\n      <td>False</td>\n      <td>False</td>\n      <td>False</td>\n    </tr>\n    <tr>\n      <th>136</th>\n      <td>False</td>\n      <td>False</td>\n      <td>False</td>\n      <td>False</td>\n      <td>False</td>\n      <td>False</td>\n      <td>False</td>\n      <td>False</td>\n      <td>False</td>\n      <td>False</td>\n      <td>...</td>\n      <td>False</td>\n      <td>False</td>\n      <td>False</td>\n      <td>False</td>\n      <td>False</td>\n      <td>False</td>\n      <td>False</td>\n      <td>False</td>\n      <td>False</td>\n      <td>False</td>\n    </tr>\n  </tbody>\n</table>\n<p>137 rows × 42 columns</p>\n</div>"
     },
     "execution_count": 11,
     "metadata": {},
     "output_type": "execute_result"
    }
   ],
   "source": [
    "# data quality consideration\n",
    "masked_train_df = pd.isna(train)\n",
    "masked_train_df"
   ],
   "metadata": {
    "collapsed": false,
    "pycharm": {
     "name": "#%%\n"
    }
   }
  },
  {
   "cell_type": "code",
   "execution_count": 16,
   "outputs": [
    {
     "data": {
      "text/plain": "Id            0\nOpen Date     0\nCity          0\nCity Group    0\nType          0\nP1            0\nP2            0\nP3            0\nP4            0\nP5            0\nP6            0\nP7            0\nP8            0\nP9            0\nP10           0\nP11           0\nP12           0\nP13           0\nP14           0\nP15           0\nP16           0\nP17           0\nP18           0\nP19           0\nP20           0\nP21           0\nP22           0\nP23           0\nP24           0\nP25           0\nP26           0\nP27           0\nP28           0\nP29           0\nP30           0\nP31           0\nP32           0\nP33           0\nP34           0\nP35           0\nP36           0\nP37           0\ndtype: int64"
     },
     "execution_count": 16,
     "metadata": {},
     "output_type": "execute_result"
    }
   ],
   "source": [
    "# check nullity feature wise\n",
    "masked_train_df.aggregate(lambda x: x.sum())"
   ],
   "metadata": {
    "collapsed": false,
    "pycharm": {
     "name": "#%%\n"
    }
   }
  },
  {
   "cell_type": "code",
   "execution_count": 20,
   "outputs": [
    {
     "data": {
      "text/plain": "            count unique         top freq       mean        std  min   25%  \\\nId          137.0    NaN         NaN  NaN  68.000000  39.692569  0.0  34.0   \nOpen Date     137    134  01/07/2000    2        NaN        NaN  NaN   NaN   \nCity          137     34    İstanbul   50        NaN        NaN  NaN   NaN   \nCity Group    137      2  Big Cities   78        NaN        NaN  NaN   NaN   \nType          137      3          FC   76        NaN        NaN  NaN   NaN   \nP1          137.0    NaN         NaN  NaN   4.014599   2.910391  1.0   2.0   \nP2          137.0    NaN         NaN  NaN   4.408759   1.514900  1.0   4.0   \nP3          137.0    NaN         NaN  NaN   4.317518   1.032337  0.0   4.0   \nP4          137.0    NaN         NaN  NaN   4.372263   1.016462  3.0   4.0   \nP5          137.0    NaN         NaN  NaN   2.007299   1.209620  1.0   1.0   \nP6          137.0    NaN         NaN  NaN   3.357664   2.134235  1.0   2.0   \nP7          137.0    NaN         NaN  NaN   5.423358   2.296809  1.0   5.0   \nP8          137.0    NaN         NaN  NaN   5.153285   1.858567  1.0   4.0   \nP9          137.0    NaN         NaN  NaN   5.445255   1.834793  4.0   4.0   \nP10         137.0    NaN         NaN  NaN   5.489051   1.847561  4.0   5.0   \nP11         137.0    NaN         NaN  NaN   3.262774   1.910767  1.0   2.0   \nP12         137.0    NaN         NaN  NaN   5.299270   1.941668  2.0   4.0   \nP13         137.0    NaN         NaN  NaN   5.080292   1.036527  3.0   5.0   \nP14         137.0    NaN         NaN  NaN   1.416058   2.729583  0.0   0.0   \nP15         137.0    NaN         NaN  NaN   1.386861   2.398677  0.0   0.0   \nP16         137.0    NaN         NaN  NaN   1.941606   3.505807  0.0   0.0   \nP17         137.0    NaN         NaN  NaN   1.036496   2.030679  0.0   0.0   \nP18         137.0    NaN         NaN  NaN   1.941606   3.300549  0.0   0.0   \nP19         137.0    NaN         NaN  NaN   4.905109   5.604467  1.0   2.0   \nP20         137.0    NaN         NaN  NaN   4.547445   3.708041  1.0   2.0   \nP21         137.0    NaN         NaN  NaN   2.270073   2.052630  1.0   1.0   \nP22         137.0    NaN         NaN  NaN   2.226277   1.230690  1.0   1.0   \nP23         137.0    NaN         NaN  NaN   3.423358   4.559609  1.0   1.0   \nP24         137.0    NaN         NaN  NaN   1.372263   2.304112  0.0   0.0   \nP25         137.0    NaN         NaN  NaN   1.211679   2.133179  0.0   0.0   \nP26         137.0    NaN         NaN  NaN   1.470803   2.612024  0.0   0.0   \nP27         137.0    NaN         NaN  NaN   1.145985   2.067039  0.0   0.0   \nP28         137.0    NaN         NaN  NaN   3.222628   2.308806  1.0   2.0   \nP29         137.0    NaN         NaN  NaN   3.135036   1.680887  0.0   2.5   \nP30         137.0    NaN         NaN  NaN   2.729927   5.536647  0.0   0.0   \nP31         137.0    NaN         NaN  NaN   1.941606   3.512093  0.0   0.0   \nP32         137.0    NaN         NaN  NaN   2.525547   5.230117  0.0   0.0   \nP33         137.0    NaN         NaN  NaN   1.138686   1.698540  0.0   0.0   \nP34         137.0    NaN         NaN  NaN   2.489051   5.165093  0.0   0.0   \nP35         137.0    NaN         NaN  NaN   2.029197   3.436272  0.0   0.0   \nP36         137.0    NaN         NaN  NaN   2.211679   4.168211  0.0   0.0   \nP37         137.0    NaN         NaN  NaN   1.116788   1.790768  0.0   0.0   \n\n             50%    75%    max  \nId          68.0  102.0  136.0  \nOpen Date    NaN    NaN    NaN  \nCity         NaN    NaN    NaN  \nCity Group   NaN    NaN    NaN  \nType         NaN    NaN    NaN  \nP1           3.0    4.0   12.0  \nP2           5.0    5.0    7.5  \nP3           4.0    5.0    7.5  \nP4           4.0    5.0    7.5  \nP5           2.0    2.0    8.0  \nP6           3.0    4.0   10.0  \nP7           5.0    5.0   10.0  \nP8           5.0    5.0   10.0  \nP9           5.0    5.0   10.0  \nP10          5.0    5.0   10.0  \nP11          3.0    4.0   10.0  \nP12          5.0    5.0   10.0  \nP13          5.0    5.0    7.5  \nP14          0.0    2.0   15.0  \nP15          0.0    2.0   10.0  \nP16          0.0    3.0   15.0  \nP17          0.0    1.0   15.0  \nP18          0.0    4.0   12.0  \nP19          3.0    5.0   25.0  \nP20          4.0    5.0   15.0  \nP21          1.0    3.0   15.0  \nP22          2.0    3.0    5.0  \nP23          2.0    5.0   25.0  \nP24          0.0    2.0   10.0  \nP25          0.0    2.0   10.0  \nP26          0.0    2.5   12.5  \nP27          0.0    2.0   12.5  \nP28          2.5    4.0   12.5  \nP29          3.0    3.0    7.5  \nP30          0.0    4.0   25.0  \nP31          0.0    3.0   15.0  \nP32          0.0    3.0   25.0  \nP33          0.0    2.0    6.0  \nP34          0.0    3.0   24.0  \nP35          0.0    4.0   15.0  \nP36          0.0    3.0   20.0  \nP37          0.0    2.0    8.0  ",
      "text/html": "<div>\n<style scoped>\n    .dataframe tbody tr th:only-of-type {\n        vertical-align: middle;\n    }\n\n    .dataframe tbody tr th {\n        vertical-align: top;\n    }\n\n    .dataframe thead th {\n        text-align: right;\n    }\n</style>\n<table border=\"1\" class=\"dataframe\">\n  <thead>\n    <tr style=\"text-align: right;\">\n      <th></th>\n      <th>count</th>\n      <th>unique</th>\n      <th>top</th>\n      <th>freq</th>\n      <th>mean</th>\n      <th>std</th>\n      <th>min</th>\n      <th>25%</th>\n      <th>50%</th>\n      <th>75%</th>\n      <th>max</th>\n    </tr>\n  </thead>\n  <tbody>\n    <tr>\n      <th>Id</th>\n      <td>137.0</td>\n      <td>NaN</td>\n      <td>NaN</td>\n      <td>NaN</td>\n      <td>68.000000</td>\n      <td>39.692569</td>\n      <td>0.0</td>\n      <td>34.0</td>\n      <td>68.0</td>\n      <td>102.0</td>\n      <td>136.0</td>\n    </tr>\n    <tr>\n      <th>Open Date</th>\n      <td>137</td>\n      <td>134</td>\n      <td>01/07/2000</td>\n      <td>2</td>\n      <td>NaN</td>\n      <td>NaN</td>\n      <td>NaN</td>\n      <td>NaN</td>\n      <td>NaN</td>\n      <td>NaN</td>\n      <td>NaN</td>\n    </tr>\n    <tr>\n      <th>City</th>\n      <td>137</td>\n      <td>34</td>\n      <td>İstanbul</td>\n      <td>50</td>\n      <td>NaN</td>\n      <td>NaN</td>\n      <td>NaN</td>\n      <td>NaN</td>\n      <td>NaN</td>\n      <td>NaN</td>\n      <td>NaN</td>\n    </tr>\n    <tr>\n      <th>City Group</th>\n      <td>137</td>\n      <td>2</td>\n      <td>Big Cities</td>\n      <td>78</td>\n      <td>NaN</td>\n      <td>NaN</td>\n      <td>NaN</td>\n      <td>NaN</td>\n      <td>NaN</td>\n      <td>NaN</td>\n      <td>NaN</td>\n    </tr>\n    <tr>\n      <th>Type</th>\n      <td>137</td>\n      <td>3</td>\n      <td>FC</td>\n      <td>76</td>\n      <td>NaN</td>\n      <td>NaN</td>\n      <td>NaN</td>\n      <td>NaN</td>\n      <td>NaN</td>\n      <td>NaN</td>\n      <td>NaN</td>\n    </tr>\n    <tr>\n      <th>P1</th>\n      <td>137.0</td>\n      <td>NaN</td>\n      <td>NaN</td>\n      <td>NaN</td>\n      <td>4.014599</td>\n      <td>2.910391</td>\n      <td>1.0</td>\n      <td>2.0</td>\n      <td>3.0</td>\n      <td>4.0</td>\n      <td>12.0</td>\n    </tr>\n    <tr>\n      <th>P2</th>\n      <td>137.0</td>\n      <td>NaN</td>\n      <td>NaN</td>\n      <td>NaN</td>\n      <td>4.408759</td>\n      <td>1.514900</td>\n      <td>1.0</td>\n      <td>4.0</td>\n      <td>5.0</td>\n      <td>5.0</td>\n      <td>7.5</td>\n    </tr>\n    <tr>\n      <th>P3</th>\n      <td>137.0</td>\n      <td>NaN</td>\n      <td>NaN</td>\n      <td>NaN</td>\n      <td>4.317518</td>\n      <td>1.032337</td>\n      <td>0.0</td>\n      <td>4.0</td>\n      <td>4.0</td>\n      <td>5.0</td>\n      <td>7.5</td>\n    </tr>\n    <tr>\n      <th>P4</th>\n      <td>137.0</td>\n      <td>NaN</td>\n      <td>NaN</td>\n      <td>NaN</td>\n      <td>4.372263</td>\n      <td>1.016462</td>\n      <td>3.0</td>\n      <td>4.0</td>\n      <td>4.0</td>\n      <td>5.0</td>\n      <td>7.5</td>\n    </tr>\n    <tr>\n      <th>P5</th>\n      <td>137.0</td>\n      <td>NaN</td>\n      <td>NaN</td>\n      <td>NaN</td>\n      <td>2.007299</td>\n      <td>1.209620</td>\n      <td>1.0</td>\n      <td>1.0</td>\n      <td>2.0</td>\n      <td>2.0</td>\n      <td>8.0</td>\n    </tr>\n    <tr>\n      <th>P6</th>\n      <td>137.0</td>\n      <td>NaN</td>\n      <td>NaN</td>\n      <td>NaN</td>\n      <td>3.357664</td>\n      <td>2.134235</td>\n      <td>1.0</td>\n      <td>2.0</td>\n      <td>3.0</td>\n      <td>4.0</td>\n      <td>10.0</td>\n    </tr>\n    <tr>\n      <th>P7</th>\n      <td>137.0</td>\n      <td>NaN</td>\n      <td>NaN</td>\n      <td>NaN</td>\n      <td>5.423358</td>\n      <td>2.296809</td>\n      <td>1.0</td>\n      <td>5.0</td>\n      <td>5.0</td>\n      <td>5.0</td>\n      <td>10.0</td>\n    </tr>\n    <tr>\n      <th>P8</th>\n      <td>137.0</td>\n      <td>NaN</td>\n      <td>NaN</td>\n      <td>NaN</td>\n      <td>5.153285</td>\n      <td>1.858567</td>\n      <td>1.0</td>\n      <td>4.0</td>\n      <td>5.0</td>\n      <td>5.0</td>\n      <td>10.0</td>\n    </tr>\n    <tr>\n      <th>P9</th>\n      <td>137.0</td>\n      <td>NaN</td>\n      <td>NaN</td>\n      <td>NaN</td>\n      <td>5.445255</td>\n      <td>1.834793</td>\n      <td>4.0</td>\n      <td>4.0</td>\n      <td>5.0</td>\n      <td>5.0</td>\n      <td>10.0</td>\n    </tr>\n    <tr>\n      <th>P10</th>\n      <td>137.0</td>\n      <td>NaN</td>\n      <td>NaN</td>\n      <td>NaN</td>\n      <td>5.489051</td>\n      <td>1.847561</td>\n      <td>4.0</td>\n      <td>5.0</td>\n      <td>5.0</td>\n      <td>5.0</td>\n      <td>10.0</td>\n    </tr>\n    <tr>\n      <th>P11</th>\n      <td>137.0</td>\n      <td>NaN</td>\n      <td>NaN</td>\n      <td>NaN</td>\n      <td>3.262774</td>\n      <td>1.910767</td>\n      <td>1.0</td>\n      <td>2.0</td>\n      <td>3.0</td>\n      <td>4.0</td>\n      <td>10.0</td>\n    </tr>\n    <tr>\n      <th>P12</th>\n      <td>137.0</td>\n      <td>NaN</td>\n      <td>NaN</td>\n      <td>NaN</td>\n      <td>5.299270</td>\n      <td>1.941668</td>\n      <td>2.0</td>\n      <td>4.0</td>\n      <td>5.0</td>\n      <td>5.0</td>\n      <td>10.0</td>\n    </tr>\n    <tr>\n      <th>P13</th>\n      <td>137.0</td>\n      <td>NaN</td>\n      <td>NaN</td>\n      <td>NaN</td>\n      <td>5.080292</td>\n      <td>1.036527</td>\n      <td>3.0</td>\n      <td>5.0</td>\n      <td>5.0</td>\n      <td>5.0</td>\n      <td>7.5</td>\n    </tr>\n    <tr>\n      <th>P14</th>\n      <td>137.0</td>\n      <td>NaN</td>\n      <td>NaN</td>\n      <td>NaN</td>\n      <td>1.416058</td>\n      <td>2.729583</td>\n      <td>0.0</td>\n      <td>0.0</td>\n      <td>0.0</td>\n      <td>2.0</td>\n      <td>15.0</td>\n    </tr>\n    <tr>\n      <th>P15</th>\n      <td>137.0</td>\n      <td>NaN</td>\n      <td>NaN</td>\n      <td>NaN</td>\n      <td>1.386861</td>\n      <td>2.398677</td>\n      <td>0.0</td>\n      <td>0.0</td>\n      <td>0.0</td>\n      <td>2.0</td>\n      <td>10.0</td>\n    </tr>\n    <tr>\n      <th>P16</th>\n      <td>137.0</td>\n      <td>NaN</td>\n      <td>NaN</td>\n      <td>NaN</td>\n      <td>1.941606</td>\n      <td>3.505807</td>\n      <td>0.0</td>\n      <td>0.0</td>\n      <td>0.0</td>\n      <td>3.0</td>\n      <td>15.0</td>\n    </tr>\n    <tr>\n      <th>P17</th>\n      <td>137.0</td>\n      <td>NaN</td>\n      <td>NaN</td>\n      <td>NaN</td>\n      <td>1.036496</td>\n      <td>2.030679</td>\n      <td>0.0</td>\n      <td>0.0</td>\n      <td>0.0</td>\n      <td>1.0</td>\n      <td>15.0</td>\n    </tr>\n    <tr>\n      <th>P18</th>\n      <td>137.0</td>\n      <td>NaN</td>\n      <td>NaN</td>\n      <td>NaN</td>\n      <td>1.941606</td>\n      <td>3.300549</td>\n      <td>0.0</td>\n      <td>0.0</td>\n      <td>0.0</td>\n      <td>4.0</td>\n      <td>12.0</td>\n    </tr>\n    <tr>\n      <th>P19</th>\n      <td>137.0</td>\n      <td>NaN</td>\n      <td>NaN</td>\n      <td>NaN</td>\n      <td>4.905109</td>\n      <td>5.604467</td>\n      <td>1.0</td>\n      <td>2.0</td>\n      <td>3.0</td>\n      <td>5.0</td>\n      <td>25.0</td>\n    </tr>\n    <tr>\n      <th>P20</th>\n      <td>137.0</td>\n      <td>NaN</td>\n      <td>NaN</td>\n      <td>NaN</td>\n      <td>4.547445</td>\n      <td>3.708041</td>\n      <td>1.0</td>\n      <td>2.0</td>\n      <td>4.0</td>\n      <td>5.0</td>\n      <td>15.0</td>\n    </tr>\n    <tr>\n      <th>P21</th>\n      <td>137.0</td>\n      <td>NaN</td>\n      <td>NaN</td>\n      <td>NaN</td>\n      <td>2.270073</td>\n      <td>2.052630</td>\n      <td>1.0</td>\n      <td>1.0</td>\n      <td>1.0</td>\n      <td>3.0</td>\n      <td>15.0</td>\n    </tr>\n    <tr>\n      <th>P22</th>\n      <td>137.0</td>\n      <td>NaN</td>\n      <td>NaN</td>\n      <td>NaN</td>\n      <td>2.226277</td>\n      <td>1.230690</td>\n      <td>1.0</td>\n      <td>1.0</td>\n      <td>2.0</td>\n      <td>3.0</td>\n      <td>5.0</td>\n    </tr>\n    <tr>\n      <th>P23</th>\n      <td>137.0</td>\n      <td>NaN</td>\n      <td>NaN</td>\n      <td>NaN</td>\n      <td>3.423358</td>\n      <td>4.559609</td>\n      <td>1.0</td>\n      <td>1.0</td>\n      <td>2.0</td>\n      <td>5.0</td>\n      <td>25.0</td>\n    </tr>\n    <tr>\n      <th>P24</th>\n      <td>137.0</td>\n      <td>NaN</td>\n      <td>NaN</td>\n      <td>NaN</td>\n      <td>1.372263</td>\n      <td>2.304112</td>\n      <td>0.0</td>\n      <td>0.0</td>\n      <td>0.0</td>\n      <td>2.0</td>\n      <td>10.0</td>\n    </tr>\n    <tr>\n      <th>P25</th>\n      <td>137.0</td>\n      <td>NaN</td>\n      <td>NaN</td>\n      <td>NaN</td>\n      <td>1.211679</td>\n      <td>2.133179</td>\n      <td>0.0</td>\n      <td>0.0</td>\n      <td>0.0</td>\n      <td>2.0</td>\n      <td>10.0</td>\n    </tr>\n    <tr>\n      <th>P26</th>\n      <td>137.0</td>\n      <td>NaN</td>\n      <td>NaN</td>\n      <td>NaN</td>\n      <td>1.470803</td>\n      <td>2.612024</td>\n      <td>0.0</td>\n      <td>0.0</td>\n      <td>0.0</td>\n      <td>2.5</td>\n      <td>12.5</td>\n    </tr>\n    <tr>\n      <th>P27</th>\n      <td>137.0</td>\n      <td>NaN</td>\n      <td>NaN</td>\n      <td>NaN</td>\n      <td>1.145985</td>\n      <td>2.067039</td>\n      <td>0.0</td>\n      <td>0.0</td>\n      <td>0.0</td>\n      <td>2.0</td>\n      <td>12.5</td>\n    </tr>\n    <tr>\n      <th>P28</th>\n      <td>137.0</td>\n      <td>NaN</td>\n      <td>NaN</td>\n      <td>NaN</td>\n      <td>3.222628</td>\n      <td>2.308806</td>\n      <td>1.0</td>\n      <td>2.0</td>\n      <td>2.5</td>\n      <td>4.0</td>\n      <td>12.5</td>\n    </tr>\n    <tr>\n      <th>P29</th>\n      <td>137.0</td>\n      <td>NaN</td>\n      <td>NaN</td>\n      <td>NaN</td>\n      <td>3.135036</td>\n      <td>1.680887</td>\n      <td>0.0</td>\n      <td>2.5</td>\n      <td>3.0</td>\n      <td>3.0</td>\n      <td>7.5</td>\n    </tr>\n    <tr>\n      <th>P30</th>\n      <td>137.0</td>\n      <td>NaN</td>\n      <td>NaN</td>\n      <td>NaN</td>\n      <td>2.729927</td>\n      <td>5.536647</td>\n      <td>0.0</td>\n      <td>0.0</td>\n      <td>0.0</td>\n      <td>4.0</td>\n      <td>25.0</td>\n    </tr>\n    <tr>\n      <th>P31</th>\n      <td>137.0</td>\n      <td>NaN</td>\n      <td>NaN</td>\n      <td>NaN</td>\n      <td>1.941606</td>\n      <td>3.512093</td>\n      <td>0.0</td>\n      <td>0.0</td>\n      <td>0.0</td>\n      <td>3.0</td>\n      <td>15.0</td>\n    </tr>\n    <tr>\n      <th>P32</th>\n      <td>137.0</td>\n      <td>NaN</td>\n      <td>NaN</td>\n      <td>NaN</td>\n      <td>2.525547</td>\n      <td>5.230117</td>\n      <td>0.0</td>\n      <td>0.0</td>\n      <td>0.0</td>\n      <td>3.0</td>\n      <td>25.0</td>\n    </tr>\n    <tr>\n      <th>P33</th>\n      <td>137.0</td>\n      <td>NaN</td>\n      <td>NaN</td>\n      <td>NaN</td>\n      <td>1.138686</td>\n      <td>1.698540</td>\n      <td>0.0</td>\n      <td>0.0</td>\n      <td>0.0</td>\n      <td>2.0</td>\n      <td>6.0</td>\n    </tr>\n    <tr>\n      <th>P34</th>\n      <td>137.0</td>\n      <td>NaN</td>\n      <td>NaN</td>\n      <td>NaN</td>\n      <td>2.489051</td>\n      <td>5.165093</td>\n      <td>0.0</td>\n      <td>0.0</td>\n      <td>0.0</td>\n      <td>3.0</td>\n      <td>24.0</td>\n    </tr>\n    <tr>\n      <th>P35</th>\n      <td>137.0</td>\n      <td>NaN</td>\n      <td>NaN</td>\n      <td>NaN</td>\n      <td>2.029197</td>\n      <td>3.436272</td>\n      <td>0.0</td>\n      <td>0.0</td>\n      <td>0.0</td>\n      <td>4.0</td>\n      <td>15.0</td>\n    </tr>\n    <tr>\n      <th>P36</th>\n      <td>137.0</td>\n      <td>NaN</td>\n      <td>NaN</td>\n      <td>NaN</td>\n      <td>2.211679</td>\n      <td>4.168211</td>\n      <td>0.0</td>\n      <td>0.0</td>\n      <td>0.0</td>\n      <td>3.0</td>\n      <td>20.0</td>\n    </tr>\n    <tr>\n      <th>P37</th>\n      <td>137.0</td>\n      <td>NaN</td>\n      <td>NaN</td>\n      <td>NaN</td>\n      <td>1.116788</td>\n      <td>1.790768</td>\n      <td>0.0</td>\n      <td>0.0</td>\n      <td>0.0</td>\n      <td>2.0</td>\n      <td>8.0</td>\n    </tr>\n  </tbody>\n</table>\n</div>"
     },
     "execution_count": 20,
     "metadata": {},
     "output_type": "execute_result"
    }
   ],
   "source": [
    "train.describe(include='all').T"
   ],
   "metadata": {
    "collapsed": false,
    "pycharm": {
     "name": "#%%\n"
    }
   }
  },
  {
   "cell_type": "code",
   "execution_count": 21,
   "outputs": [
    {
     "name": "stdout",
     "output_type": "stream",
     "text": [
      "<class 'pandas.core.frame.DataFrame'>\n",
      "RangeIndex: 137 entries, 0 to 136\n",
      "Data columns (total 42 columns):\n",
      " #   Column      Non-Null Count  Dtype  \n",
      "---  ------      --------------  -----  \n",
      " 0   Id          137 non-null    int64  \n",
      " 1   Open Date   137 non-null    object \n",
      " 2   City        137 non-null    object \n",
      " 3   City Group  137 non-null    object \n",
      " 4   Type        137 non-null    object \n",
      " 5   P1          137 non-null    int64  \n",
      " 6   P2          137 non-null    float64\n",
      " 7   P3          137 non-null    float64\n",
      " 8   P4          137 non-null    float64\n",
      " 9   P5          137 non-null    int64  \n",
      " 10  P6          137 non-null    int64  \n",
      " 11  P7          137 non-null    int64  \n",
      " 12  P8          137 non-null    int64  \n",
      " 13  P9          137 non-null    int64  \n",
      " 14  P10         137 non-null    int64  \n",
      " 15  P11         137 non-null    int64  \n",
      " 16  P12         137 non-null    int64  \n",
      " 17  P13         137 non-null    float64\n",
      " 18  P14         137 non-null    int64  \n",
      " 19  P15         137 non-null    int64  \n",
      " 20  P16         137 non-null    int64  \n",
      " 21  P17         137 non-null    int64  \n",
      " 22  P18         137 non-null    int64  \n",
      " 23  P19         137 non-null    int64  \n",
      " 24  P20         137 non-null    int64  \n",
      " 25  P21         137 non-null    int64  \n",
      " 26  P22         137 non-null    int64  \n",
      " 27  P23         137 non-null    int64  \n",
      " 28  P24         137 non-null    int64  \n",
      " 29  P25         137 non-null    int64  \n",
      " 30  P26         137 non-null    float64\n",
      " 31  P27         137 non-null    float64\n",
      " 32  P28         137 non-null    float64\n",
      " 33  P29         137 non-null    float64\n",
      " 34  P30         137 non-null    int64  \n",
      " 35  P31         137 non-null    int64  \n",
      " 36  P32         137 non-null    int64  \n",
      " 37  P33         137 non-null    int64  \n",
      " 38  P34         137 non-null    int64  \n",
      " 39  P35         137 non-null    int64  \n",
      " 40  P36         137 non-null    int64  \n",
      " 41  P37         137 non-null    int64  \n",
      "dtypes: float64(8), int64(30), object(4)\n",
      "memory usage: 45.1+ KB\n"
     ]
    }
   ],
   "source": [
    "train.info()"
   ],
   "metadata": {
    "collapsed": false,
    "pycharm": {
     "name": "#%%\n"
    }
   }
  },
  {
   "cell_type": "code",
   "execution_count": 24,
   "outputs": [
    {
     "data": {
      "text/plain": "Id     39.692569\nP1      2.910391\nP2      1.514900\nP3      1.032337\nP4      1.016462\nP5      1.209620\nP6      2.134235\nP7      2.296809\nP8      1.858567\nP9      1.834793\nP10     1.847561\nP11     1.910767\nP12     1.941668\nP13     1.036527\nP14     2.729583\nP15     2.398677\nP16     3.505807\nP17     2.030679\nP18     3.300549\nP19     5.604467\nP20     3.708041\nP21     2.052630\nP22     1.230690\nP23     4.559609\nP24     2.304112\nP25     2.133179\nP26     2.612024\nP27     2.067039\nP28     2.308806\nP29     1.680887\nP30     5.536647\nP31     3.512093\nP32     5.230117\nP33     1.698540\nP34     5.165093\nP35     3.436272\nP36     4.168211\nP37     1.790768\ndtype: float64"
     },
     "execution_count": 24,
     "metadata": {},
     "output_type": "execute_result"
    }
   ],
   "source": [
    "train.std()"
   ],
   "metadata": {
    "collapsed": false,
    "pycharm": {
     "name": "#%%\n"
    }
   }
  }
 ],
 "metadata": {
  "kernelspec": {
   "display_name": "Python 3",
   "language": "python",
   "name": "python3"
  },
  "language_info": {
   "codemirror_mode": {
    "name": "ipython",
    "version": 2
   },
   "file_extension": ".py",
   "mimetype": "text/x-python",
   "name": "python",
   "nbconvert_exporter": "python",
   "pygments_lexer": "ipython2",
   "version": "2.7.6"
  }
 },
 "nbformat": 4,
 "nbformat_minor": 0
}